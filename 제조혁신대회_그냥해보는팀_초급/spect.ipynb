{
 "cells": [
  {
   "cell_type": "code",
   "execution_count": null,
   "metadata": {},
   "outputs": [],
   "source": [
    "import torch\n",
    "import pandas as pd\n",
    "import numpy as np \n",
    "import matplotlib.pyplot as plt\n",
    "import librosa.display\n",
    "import os\n",
    "import cv2\n",
    "readTrainData = pd.read_csv(\"./anwer_sample.csv\")\n",
    "\n",
    "file_list = os.listdir('./test_npy')\n",
    "for file in file_list:\n",
    "    data = np.load('./test_npy/'+file)\n",
    "    \n",
    "\n",
    "    #500번대에서 좀 잘보임\n",
    "    # STFT power spectrum\n",
    "    # D_octave = np.abs(librosa.stft(loaded_x))\n",
    "    librosa.display.specshow(librosa.amplitude_to_db(data, ref=np.max))\n",
    "    \n",
    "    plt.savefig('./test_img5/'+file[:-3]+'.jpg',format='jpeg',bbox_inches=\"tight\", pad_inches = 0)\n",
    "    plt.clf()\n",
    "    # plt.scatter(loaded_x[0], loaded_x[5])"
   ]
  }
 ],
 "metadata": {
  "language_info": {
   "name": "python"
  }
 },
 "nbformat": 4,
 "nbformat_minor": 2
}
